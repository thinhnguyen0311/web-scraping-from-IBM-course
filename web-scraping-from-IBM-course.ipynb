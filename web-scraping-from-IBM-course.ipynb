{
 "cells": [
  {
   "cell_type": "code",
   "execution_count": 1,
   "id": "70d1e239",
   "metadata": {},
   "outputs": [],
   "source": [
    "import pandas as pd\n",
    "from bs4 import BeautifulSoup\n",
    "import html5lib\n",
    "import requests"
   ]
  },
  {
   "cell_type": "markdown",
   "id": "8b4e4107",
   "metadata": {},
   "source": [
    "### In this lab, we will retrieve a list of largest banks by market capitalization."
   ]
  },
  {
   "cell_type": "markdown",
   "id": "da6fa3d9",
   "metadata": {},
   "source": [
    "### The target website is: https://web.archive.org/web/20200318083015/https://en.wikipedia.org/wiki/List_of_largest_banks"
   ]
  },
  {
   "cell_type": "markdown",
   "id": "4c8c1935",
   "metadata": {},
   "source": [
    "#### 1. Using requets to gather the website content:"
   ]
  },
  {
   "cell_type": "code",
   "execution_count": 5,
   "id": "42a7ca8e",
   "metadata": {},
   "outputs": [],
   "source": [
    "res = requests.get('https://web.archive.org/web/20200318083015/https://en.wikipedia.org/wiki/List_of_largest_banks')\n",
    "html_data = res.text"
   ]
  },
  {
   "cell_type": "markdown",
   "id": "36ba8fc0",
   "metadata": {},
   "source": [
    "#### 2. Parse the website content by BeautifulSoup:"
   ]
  },
  {
   "cell_type": "code",
   "execution_count": 7,
   "id": "81c1b2cc",
   "metadata": {},
   "outputs": [],
   "source": [
    "data = BeautifulSoup(html_data, 'html.parser')"
   ]
  },
  {
   "cell_type": "markdown",
   "id": "6ddd9f85",
   "metadata": {},
   "source": [
    "#### 3. Find the \"By market capitalization\" table and retrieve information from \"Bank name\" column and \"Market cap (US$ billion)\" column."
   ]
  },
  {
   "cell_type": "code",
   "execution_count": 13,
   "id": "273bdd80",
   "metadata": {},
   "outputs": [],
   "source": [
    "retrieved_data = pd.DataFrame(columns=['Bank Name', 'Market cap (US$ billion)'])\n",
    "\n",
    "# data has four table, therefore it has four tbody elements.\n",
    "# \"By market capitalization\" is the third table.\n",
    "# So we create a list of tbody elements, and access index [2]\n",
    "\n",
    "for row in data.find_all('tbody')[2].find_all('tr'):\n",
    "    col_list = row.find_all('td')\n",
    "    if len(col_list) > 0:\n",
    "        bank_name = col_list[1].text.strip()\n",
    "        market_cap = float(col_list[2].string.strip())\n",
    "        \n",
    "        retrieved_data = retrieved_data.append({'Bank Name': bank_name, 'Market cap (US$ billion)': market_cap}, \n",
    "                                               ignore_index=True)"
   ]
  },
  {
   "cell_type": "code",
   "execution_count": 14,
   "id": "7eda0c99",
   "metadata": {},
   "outputs": [
    {
     "data": {
      "text/html": [
       "<div>\n",
       "<style scoped>\n",
       "    .dataframe tbody tr th:only-of-type {\n",
       "        vertical-align: middle;\n",
       "    }\n",
       "\n",
       "    .dataframe tbody tr th {\n",
       "        vertical-align: top;\n",
       "    }\n",
       "\n",
       "    .dataframe thead th {\n",
       "        text-align: right;\n",
       "    }\n",
       "</style>\n",
       "<table border=\"1\" class=\"dataframe\">\n",
       "  <thead>\n",
       "    <tr style=\"text-align: right;\">\n",
       "      <th></th>\n",
       "      <th>Bank Name</th>\n",
       "      <th>Market cap (US$ billion)</th>\n",
       "    </tr>\n",
       "  </thead>\n",
       "  <tbody>\n",
       "    <tr>\n",
       "      <th>0</th>\n",
       "      <td>JPMorgan Chase</td>\n",
       "      <td>390.934</td>\n",
       "    </tr>\n",
       "    <tr>\n",
       "      <th>1</th>\n",
       "      <td>Industrial and Commercial Bank of China</td>\n",
       "      <td>345.214</td>\n",
       "    </tr>\n",
       "    <tr>\n",
       "      <th>2</th>\n",
       "      <td>Bank of America</td>\n",
       "      <td>325.331</td>\n",
       "    </tr>\n",
       "    <tr>\n",
       "      <th>3</th>\n",
       "      <td>Wells Fargo</td>\n",
       "      <td>308.013</td>\n",
       "    </tr>\n",
       "    <tr>\n",
       "      <th>4</th>\n",
       "      <td>China Construction Bank</td>\n",
       "      <td>257.399</td>\n",
       "    </tr>\n",
       "    <tr>\n",
       "      <th>...</th>\n",
       "      <td>...</td>\n",
       "      <td>...</td>\n",
       "    </tr>\n",
       "    <tr>\n",
       "      <th>65</th>\n",
       "      <td>Ping An Bank</td>\n",
       "      <td>37.993</td>\n",
       "    </tr>\n",
       "    <tr>\n",
       "      <th>66</th>\n",
       "      <td>Standard Chartered</td>\n",
       "      <td>37.319</td>\n",
       "    </tr>\n",
       "    <tr>\n",
       "      <th>67</th>\n",
       "      <td>United Overseas Bank</td>\n",
       "      <td>35.128</td>\n",
       "    </tr>\n",
       "    <tr>\n",
       "      <th>68</th>\n",
       "      <td>QNB Group</td>\n",
       "      <td>33.560</td>\n",
       "    </tr>\n",
       "    <tr>\n",
       "      <th>69</th>\n",
       "      <td>Bank Rakyat</td>\n",
       "      <td>33.081</td>\n",
       "    </tr>\n",
       "  </tbody>\n",
       "</table>\n",
       "<p>70 rows × 2 columns</p>\n",
       "</div>"
      ],
      "text/plain": [
       "                                  Bank Name  Market cap (US$ billion)\n",
       "0                            JPMorgan Chase                   390.934\n",
       "1   Industrial and Commercial Bank of China                   345.214\n",
       "2                           Bank of America                   325.331\n",
       "3                               Wells Fargo                   308.013\n",
       "4                   China Construction Bank                   257.399\n",
       "..                                      ...                       ...\n",
       "65                             Ping An Bank                    37.993\n",
       "66                       Standard Chartered                    37.319\n",
       "67                     United Overseas Bank                    35.128\n",
       "68                                QNB Group                    33.560\n",
       "69                              Bank Rakyat                    33.081\n",
       "\n",
       "[70 rows x 2 columns]"
      ]
     },
     "execution_count": 14,
     "metadata": {},
     "output_type": "execute_result"
    }
   ],
   "source": [
    "retrieved_data"
   ]
  },
  {
   "cell_type": "markdown",
   "id": "6a6c903a",
   "metadata": {},
   "source": [
    "#### 4. Store retrieved_data in JSON file:"
   ]
  },
  {
   "cell_type": "code",
   "execution_count": 15,
   "id": "4a4b514a",
   "metadata": {},
   "outputs": [],
   "source": [
    "output_path = 'retrieved_data.json'\n",
    "\n",
    "retrieved_data.to_json(output_path)"
   ]
  },
  {
   "cell_type": "code",
   "execution_count": null,
   "id": "d895ef5e",
   "metadata": {},
   "outputs": [],
   "source": []
  }
 ],
 "metadata": {
  "kernelspec": {
   "display_name": "Python 3 (ipykernel)",
   "language": "python",
   "name": "python3"
  },
  "language_info": {
   "codemirror_mode": {
    "name": "ipython",
    "version": 3
   },
   "file_extension": ".py",
   "mimetype": "text/x-python",
   "name": "python",
   "nbconvert_exporter": "python",
   "pygments_lexer": "ipython3",
   "version": "3.9.7"
  }
 },
 "nbformat": 4,
 "nbformat_minor": 5
}
